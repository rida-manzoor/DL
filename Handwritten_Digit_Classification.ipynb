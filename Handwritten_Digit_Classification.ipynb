{
  "nbformat": 4,
  "nbformat_minor": 0,
  "metadata": {
    "colab": {
      "provenance": [],
      "authorship_tag": "ABX9TyOZ3E1YC2U8iQaW5jW7f82f",
      "include_colab_link": true
    },
    "kernelspec": {
      "name": "python3",
      "display_name": "Python 3"
    },
    "language_info": {
      "name": "python"
    }
  },
  "cells": [
    {
      "cell_type": "markdown",
      "metadata": {
        "id": "view-in-github",
        "colab_type": "text"
      },
      "source": [
        "<a href=\"https://colab.research.google.com/github/rida-manzoor/DL/blob/main/Handwritten_Digit_Classification.ipynb\" target=\"_parent\"><img src=\"https://colab.research.google.com/assets/colab-badge.svg\" alt=\"Open In Colab\"/></a>"
      ]
    },
    {
      "cell_type": "code",
      "execution_count": 1,
      "metadata": {
        "id": "ZcDDt-kJtuoq"
      },
      "outputs": [],
      "source": [
        "import tensorflow\n",
        "from tensorflow import keras\n",
        "from tensorflow.keras import Sequential\n",
        "from tensorflow.keras.layers import Dense, Flatten"
      ]
    },
    {
      "cell_type": "code",
      "source": [
        "(x_train,y_train),(x_test,y_test)= keras.datasets.mnist.load_data()"
      ],
      "metadata": {
        "colab": {
          "base_uri": "https://localhost:8080/"
        },
        "id": "awngVE2kuv-7",
        "outputId": "af1ad2a4-83e9-42a6-b5f6-280c83a62ad8"
      },
      "execution_count": 2,
      "outputs": [
        {
          "output_type": "stream",
          "name": "stdout",
          "text": [
            "Downloading data from https://storage.googleapis.com/tensorflow/tf-keras-datasets/mnist.npz\n",
            "11490434/11490434 [==============================] - 0s 0us/step\n"
          ]
        }
      ]
    },
    {
      "cell_type": "code",
      "source": [
        "x_train.shape"
      ],
      "metadata": {
        "colab": {
          "base_uri": "https://localhost:8080/"
        },
        "id": "KEnSs6-pvUSp",
        "outputId": "fad151d1-dc9a-4fbe-83eb-c0e31bc05d1a"
      },
      "execution_count": 3,
      "outputs": [
        {
          "output_type": "execute_result",
          "data": {
            "text/plain": [
              "(60000, 28, 28)"
            ]
          },
          "metadata": {},
          "execution_count": 3
        }
      ]
    },
    {
      "cell_type": "code",
      "source": [
        "import matplotlib.pyplot as plt\n",
        "plt.imshow(x_train[9])"
      ],
      "metadata": {
        "colab": {
          "base_uri": "https://localhost:8080/",
          "height": 447
        },
        "id": "QFhiPCA8vsHD",
        "outputId": "c2814636-d757-4913-dc02-6513dcafd099"
      },
      "execution_count": 4,
      "outputs": [
        {
          "output_type": "execute_result",
          "data": {
            "text/plain": [
              "<matplotlib.image.AxesImage at 0x7f4781cfca90>"
            ]
          },
          "metadata": {},
          "execution_count": 4
        },
        {
          "output_type": "display_data",
          "data": {
            "text/plain": [
              "<Figure size 640x480 with 1 Axes>"
            ],
            "image/png": "[encoded data removed]"
          },
          "metadata": {}
        }
      ]
    },
    {
      "cell_type": "code",
      "source": [
        "x_train = x_train/255\n",
        "x_test = x_test/255"
      ],
      "metadata": {
        "id": "CxNaoZvdwD5m"
      },
      "execution_count": 5,
      "outputs": []
    },
    {
      "cell_type": "code",
      "source": [
        "model = Sequential()"
      ],
      "metadata": {
        "id": "QlIiJENkwhgy"
      },
      "execution_count": 6,
      "outputs": []
    },
    {
      "cell_type": "code",
      "source": [
        "model.add(Flatten(input_shape=(28,28)))\n",
        "model.add(Dense(128,activation='relu'))\n",
        "model.add(Dense(32,activation='relu'))\n",
        "model.add(Dense(10, activation='softmax'))"
      ],
      "metadata": {
        "id": "uvYEcdHiwsXM"
      },
      "execution_count": 7,
      "outputs": []
    },
    {
      "cell_type": "code",
      "source": [
        "# Difference between categorical_crossentropy and sparse_categorical_crossentropy is that we don't have to encode target column in case of sparse_categorical_crossentropy\n",
        "\n",
        "model.compile(loss='sparse_categorical_crossentropy',optimizer='Adam')"
      ],
      "metadata": {
        "id": "tJMR5KqMxZ-Z"
      },
      "execution_count": 8,
      "outputs": []
    },
    {
      "cell_type": "code",
      "source": [
        "history = model.fit(x_train,y_train,epochs=18,validation_split=0.2)"
      ],
      "metadata": {
        "colab": {
          "base_uri": "https://localhost:8080/"
        },
        "id": "_3TN_aU-yOs2",
        "outputId": "0db0217f-59c1-4a39-a748-51a45f6fe106"
      },
      "execution_count": 9,
      "outputs": [
        {
          "output_type": "stream",
          "name": "stdout",
          "text": [
            "Epoch 1/18\n",
            "1500/1500 [==============================] - 4s 3ms/step - loss: 0.2825 - val_loss: 0.1452\n",
            "Epoch 2/18\n",
            "1500/1500 [==============================] - 4s 3ms/step - loss: 0.1191 - val_loss: 0.1188\n",
            "Epoch 3/18\n",
            "1500/1500 [==============================] - 4s 2ms/step - loss: 0.0841 - val_loss: 0.1089\n",
            "Epoch 4/18\n",
            "1500/1500 [==============================] - 4s 2ms/step - loss: 0.0608 - val_loss: 0.1077\n",
            "Epoch 5/18\n",
            "1500/1500 [==============================] - 4s 3ms/step - loss: 0.0483 - val_loss: 0.0887\n",
            "Epoch 6/18\n",
            "1500/1500 [==============================] - 3s 2ms/step - loss: 0.0403 - val_loss: 0.0934\n",
            "Epoch 7/18\n",
            "1500/1500 [==============================] - 3s 2ms/step - loss: 0.0329 - val_loss: 0.1020\n",
            "Epoch 8/18\n",
            "1500/1500 [==============================] - 4s 2ms/step - loss: 0.0268 - val_loss: 0.0909\n",
            "Epoch 9/18\n",
            "1500/1500 [==============================] - 4s 3ms/step - loss: 0.0204 - val_loss: 0.1204\n",
            "Epoch 10/18\n",
            "1500/1500 [==============================] - 4s 3ms/step - loss: 0.0205 - val_loss: 0.1050\n",
            "Epoch 11/18\n",
            "1500/1500 [==============================] - 4s 2ms/step - loss: 0.0180 - val_loss: 0.1102\n",
            "Epoch 12/18\n",
            "1500/1500 [==============================] - 3s 2ms/step - loss: 0.0164 - val_loss: 0.1148\n",
            "Epoch 13/18\n",
            "1500/1500 [==============================] - 3s 2ms/step - loss: 0.0144 - val_loss: 0.1209\n",
            "Epoch 14/18\n",
            "1500/1500 [==============================] - 3s 2ms/step - loss: 0.0110 - val_loss: 0.1245\n",
            "Epoch 15/18\n",
            "1500/1500 [==============================] - 4s 3ms/step - loss: 0.0148 - val_loss: 0.1279\n",
            "Epoch 16/18\n",
            "1500/1500 [==============================] - 4s 2ms/step - loss: 0.0110 - val_loss: 0.1356\n",
            "Epoch 17/18\n",
            "1500/1500 [==============================] - 3s 2ms/step - loss: 0.0098 - val_loss: 0.1366\n",
            "Epoch 18/18\n",
            "1500/1500 [==============================] - 4s 3ms/step - loss: 0.0106 - val_loss: 0.1270\n"
          ]
        }
      ]
    },
    {
      "cell_type": "code",
      "source": [
        "y_prob = model.predict(x_test)"
      ],
      "metadata": {
        "colab": {
          "base_uri": "https://localhost:8080/"
        },
        "id": "hpSLUv_cye7F",
        "outputId": "db2ca392-456c-4fe8-fecb-800d8ba25ae2"
      },
      "execution_count": 10,
      "outputs": [
        {
          "output_type": "stream",
          "name": "stdout",
          "text": [
            "313/313 [==============================] - 0s 1ms/step\n"
          ]
        }
      ]
    },
    {
      "cell_type": "code",
      "source": [
        "y_prob"
      ],
      "metadata": {
        "colab": {
          "base_uri": "https://localhost:8080/"
        },
        "id": "1-kOWPHTzEMh",
        "outputId": "893444a5-765e-41ad-b24d-6fbc75805ccf"
      },
      "execution_count": 11,
      "outputs": [
        {
          "output_type": "execute_result",
          "data": {
            "text/plain": [
              "array([[1.00941477e-11, 2.24231380e-11, 3.89405556e-11, ...,\n",
              "        9.99999702e-01, 4.90916509e-12, 9.86412618e-10],\n",
              "       [8.97898336e-12, 1.09286052e-11, 9.99999940e-01, ...,\n",
              "        4.94074334e-21, 2.41485197e-14, 6.58966843e-20],\n",
              "       [1.49797327e-10, 9.99998629e-01, 4.49127455e-08, ...,\n",
              "        4.64354656e-07, 7.45183172e-07, 1.76468884e-08],\n",
              "       ...,\n",
              "       [1.74831680e-25, 2.22732362e-14, 1.13846875e-23, ...,\n",
              "        1.42378763e-12, 8.10773531e-16, 6.04975314e-09],\n",
              "       [3.91055451e-20, 2.48772274e-18, 2.60282881e-25, ...,\n",
              "        1.44641616e-19, 4.15970536e-10, 1.82847904e-16],\n",
              "       [1.07131573e-19, 1.46023691e-27, 1.04304855e-24, ...,\n",
              "        6.01371860e-32, 1.42587236e-19, 7.91817051e-23]], dtype=float32)"
            ]
          },
          "metadata": {},
          "execution_count": 11
        }
      ]
    },
    {
      "cell_type": "code",
      "source": [
        "y_pred=y_prob.argmax(axis=1)"
      ],
      "metadata": {
        "id": "Xg1mgPoczHyu"
      },
      "execution_count": 12,
      "outputs": []
    },
    {
      "cell_type": "code",
      "source": [
        "from sklearn.metrics import accuracy_score\n",
        "accuracy_score(y_test,y_pred)"
      ],
      "metadata": {
        "colab": {
          "base_uri": "https://localhost:8080/"
        },
        "id": "wE9IIAM4zMD_",
        "outputId": "d467f71f-eef3-41c0-d719-9e2ae8290250"
      },
      "execution_count": 13,
      "outputs": [
        {
          "output_type": "execute_result",
          "data": {
            "text/plain": [
              "0.9762"
            ]
          },
          "metadata": {},
          "execution_count": 13
        }
      ]
    },
    {
      "cell_type": "code",
      "source": [
        "plt.plot(history.history['loss'])\n",
        "plt.plot(history.history['val_loss'])"
      ],
      "metadata": {
        "colab": {
          "base_uri": "https://localhost:8080/",
          "height": 447
        },
        "id": "6NkwU6f0zdQO",
        "outputId": "f81edd1d-f26f-4774-d150-fd0422a094a6"
      },
      "execution_count": 14,
      "outputs": [
        {
          "output_type": "execute_result",
          "data": {
            "text/plain": [
              "[<matplotlib.lines.Line2D at 0x7f474fd30a60>]"
            ]
          },
          "metadata": {},
          "execution_count": 14
        },
        {
          "output_type": "display_data",
          "data": {
            "text/plain": [
              "<Figure size 640x480 with 1 Axes>"
            ],
            "image/png": "[encoded data removed]"
          },
          "metadata": {}
        }
      ]
    },
    {
      "cell_type": "code",
      "source": [
        "plt.imshow(x_test[2])"
      ],
      "metadata": {
        "colab": {
          "base_uri": "https://localhost:8080/",
          "height": 447
        },
        "id": "AJFnHEzL2jnF",
        "outputId": "cb5a0c16-8ae2-4cb1-94f6-32489b7a754a"
      },
      "execution_count": 16,
      "outputs": [
        {
          "output_type": "execute_result",
          "data": {
            "text/plain": [
              "<matplotlib.image.AxesImage at 0x7f474fd32ce0>"
            ]
          },
          "metadata": {},
          "execution_count": 16
        },
        {
          "output_type": "display_data",
          "data": {
            "text/plain": [
              "<Figure size 640x480 with 1 Axes>"
            ],
            "image/png": "[encoded data removed]"
          },
          "metadata": {}
        }
      ]
    },
    {
      "cell_type": "code",
      "source": [
        "model.predict(x_test[2].reshape(1,28,28))"
      ],
      "metadata": {
        "colab": {
          "base_uri": "https://localhost:8080/"
        },
        "id": "zyaLFPa425YI",
        "outputId": "a4ae946e-5bd4-47eb-eb79-130b69089fca"
      },
      "execution_count": 17,
      "outputs": [
        {
          "output_type": "stream",
          "name": "stdout",
          "text": [
            "1/1 [==============================] - 0s 15ms/step\n"
          ]
        },
        {
          "output_type": "execute_result",
          "data": {
            "text/plain": [
              "array([[1.4979706e-10, 9.9999869e-01, 4.4912746e-08, 3.3453798e-13,\n",
              "        2.0523373e-08, 1.2537402e-09, 2.0987979e-10, 4.6435468e-07,\n",
              "        7.4518323e-07, 1.7646890e-08]], dtype=float32)"
            ]
          },
          "metadata": {},
          "execution_count": 17
        }
      ]
    },
    {
      "cell_type": "code",
      "source": [
        "model.predict(x_test[2].reshape(1,28,28)).argmax(axis=1)"
      ],
      "metadata": {
        "colab": {
          "base_uri": "https://localhost:8080/"
        },
        "id": "YQqFvjj73Hz9",
        "outputId": "bc2c181c-c841-4856-cc5b-026472ea06e2"
      },
      "execution_count": 18,
      "outputs": [
        {
          "output_type": "stream",
          "name": "stdout",
          "text": [
            "1/1 [==============================] - 0s 29ms/step\n"
          ]
        },
        {
          "output_type": "execute_result",
          "data": {
            "text/plain": [
              "array([1])"
            ]
          },
          "metadata": {},
          "execution_count": 18
        }
      ]
    },
    {
      "cell_type": "code",
      "source": [],
      "metadata": {
        "id": "HvNdEu7f3SPL"
      },
      "execution_count": null,
      "outputs": []
    }
  ]
}